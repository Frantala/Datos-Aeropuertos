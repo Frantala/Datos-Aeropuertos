{
  "cells": [
    {
      "cell_type": "markdown",
      "metadata": {
        "colab_type": "text",
        "id": "view-in-github"
      },
      "source": [
        "<a href=\"https://colab.research.google.com/github/Frantala/Data-Python/blob/main/An%C3%A1lisis_de_Aeropuertos.ipynb\" target=\"_parent\"><img src=\"https://colab.research.google.com/assets/colab-badge.svg\" alt=\"Open In Colab\"/></a>"
      ]
    },
    {
      "cell_type": "markdown",
      "metadata": {
        "id": "ua-oOzWarEr8"
      },
      "source": [
        "# Analisis de un Dataframe creado sobre aeropuertos\n",
        "\n"
      ]
    },
    {
      "cell_type": "code",
      "execution_count": 1,
      "metadata": {
        "id": "klAoPs9QNq3U"
      },
      "outputs": [],
      "source": [
        "#importamos las librerias\n",
        "import pandas as pd\n",
        "import matplotlib.pyplot as plt\n",
        "import seaborn as sns"
      ]
    },
    {
      "cell_type": "code",
      "execution_count": 2,
      "metadata": {
        "colab": {
          "base_uri": "https://localhost:8080/",
          "height": 238
        },
        "id": "KHSvZBQjOIUu",
        "outputId": "24c339a4-d0b5-4ccf-a1db-0e524af26613"
      },
      "outputs": [
        {
          "data": {
            "text/html": [
              "<div>\n",
              "<style scoped>\n",
              "    .dataframe tbody tr th:only-of-type {\n",
              "        vertical-align: middle;\n",
              "    }\n",
              "\n",
              "    .dataframe tbody tr th {\n",
              "        vertical-align: top;\n",
              "    }\n",
              "\n",
              "    .dataframe thead th {\n",
              "        text-align: right;\n",
              "    }\n",
              "</style>\n",
              "<table border=\"1\" class=\"dataframe\">\n",
              "  <thead>\n",
              "    <tr style=\"text-align: right;\">\n",
              "      <th></th>\n",
              "      <th>NAME</th>\n",
              "      <th>CITY</th>\n",
              "      <th>COUNTRY</th>\n",
              "      <th>PEOPLE</th>\n",
              "    </tr>\n",
              "  </thead>\n",
              "  <tbody>\n",
              "    <tr>\n",
              "      <th>0</th>\n",
              "      <td>Seattle-Tacoma</td>\n",
              "      <td>Seattle</td>\n",
              "      <td>USA</td>\n",
              "      <td>15000</td>\n",
              "    </tr>\n",
              "    <tr>\n",
              "      <th>1</th>\n",
              "      <td>Portland</td>\n",
              "      <td>Portland</td>\n",
              "      <td>USA</td>\n",
              "      <td>8000</td>\n",
              "    </tr>\n",
              "    <tr>\n",
              "      <th>2</th>\n",
              "      <td>Vancouver</td>\n",
              "      <td>Vancouver</td>\n",
              "      <td>Canada</td>\n",
              "      <td>10000</td>\n",
              "    </tr>\n",
              "    <tr>\n",
              "      <th>3</th>\n",
              "      <td>Calgary</td>\n",
              "      <td>Calgary</td>\n",
              "      <td>Canada</td>\n",
              "      <td>15500</td>\n",
              "    </tr>\n",
              "    <tr>\n",
              "      <th>4</th>\n",
              "      <td>Edmonton</td>\n",
              "      <td>Edmonton</td>\n",
              "      <td>Canada</td>\n",
              "      <td>8000</td>\n",
              "    </tr>\n",
              "    <tr>\n",
              "      <th>5</th>\n",
              "      <td>Winnipeg</td>\n",
              "      <td>Winnipeg</td>\n",
              "      <td>Canada</td>\n",
              "      <td>12500</td>\n",
              "    </tr>\n",
              "  </tbody>\n",
              "</table>\n",
              "</div>"
            ],
            "text/plain": [
              "             NAME       CITY COUNTRY  PEOPLE\n",
              "0  Seattle-Tacoma    Seattle     USA   15000\n",
              "1        Portland   Portland     USA    8000\n",
              "2       Vancouver  Vancouver  Canada   10000\n",
              "3         Calgary    Calgary  Canada   15500\n",
              "4        Edmonton   Edmonton  Canada    8000\n",
              "5        Winnipeg   Winnipeg  Canada   12500"
            ]
          },
          "execution_count": 2,
          "metadata": {},
          "output_type": "execute_result"
        }
      ],
      "source": [
        "# Creamos un  dataframe de todos los aeropuertos de la ciudad de seattle\n",
        "airports = pd.DataFrame([\n",
        "    ['Seattle-Tacoma', 'Seattle', 'USA', 15000],\n",
        "    ['Portland', 'Portland', 'USA', 8000],\n",
        "    ['Vancouver', 'Vancouver', 'Canada', 10000],\n",
        "    ['Calgary', 'Calgary', 'Canada', 15500],\n",
        "    ['Edmonton', 'Edmonton', 'Canada', 8000],\n",
        "    ['Winnipeg', 'Winnipeg', 'Canada', 12500],\n",
        "],columns=['NAME', 'CITY', 'COUNTRY', 'PEOPLE'])\n",
        "airports"
      ]
    },
    {
      "cell_type": "code",
      "execution_count": 3,
      "metadata": {
        "colab": {
          "base_uri": "https://localhost:8080/",
          "height": 112
        },
        "id": "QuPJ9s57lqrN",
        "outputId": "bb8ae343-dd80-46b0-ac20-25853fca5c19"
      },
      "outputs": [
        {
          "data": {
            "text/html": [
              "<div>\n",
              "<style scoped>\n",
              "    .dataframe tbody tr th:only-of-type {\n",
              "        vertical-align: middle;\n",
              "    }\n",
              "\n",
              "    .dataframe tbody tr th {\n",
              "        vertical-align: top;\n",
              "    }\n",
              "\n",
              "    .dataframe thead th {\n",
              "        text-align: right;\n",
              "    }\n",
              "</style>\n",
              "<table border=\"1\" class=\"dataframe\">\n",
              "  <thead>\n",
              "    <tr style=\"text-align: right;\">\n",
              "      <th></th>\n",
              "      <th>NAME</th>\n",
              "      <th>CITY</th>\n",
              "      <th>COUNTRY</th>\n",
              "      <th>PEOPLE</th>\n",
              "    </tr>\n",
              "  </thead>\n",
              "  <tbody>\n",
              "    <tr>\n",
              "      <th>0</th>\n",
              "      <td>Seattle-Tacoma</td>\n",
              "      <td>Seattle</td>\n",
              "      <td>USA</td>\n",
              "      <td>15000</td>\n",
              "    </tr>\n",
              "    <tr>\n",
              "      <th>1</th>\n",
              "      <td>Portland</td>\n",
              "      <td>Portland</td>\n",
              "      <td>USA</td>\n",
              "      <td>8000</td>\n",
              "    </tr>\n",
              "  </tbody>\n",
              "</table>\n",
              "</div>"
            ],
            "text/plain": [
              "             NAME      CITY COUNTRY  PEOPLE\n",
              "0  Seattle-Tacoma   Seattle     USA   15000\n",
              "1        Portland  Portland     USA    8000"
            ]
          },
          "execution_count": 3,
          "metadata": {},
          "output_type": "execute_result"
        }
      ],
      "source": [
        "#Mostramos solamente los primeros dos columnas del df\n",
        "airports.head(2)"
      ]
    },
    {
      "cell_type": "code",
      "execution_count": 4,
      "metadata": {
        "colab": {
          "base_uri": "https://localhost:8080/"
        },
        "id": "AaaZLqxkmB1G",
        "outputId": "9f58b239-934c-4aea-c335-46fe8c61ecba"
      },
      "outputs": [
        {
          "data": {
            "text/plain": [
              "(6, 4)"
            ]
          },
          "execution_count": 4,
          "metadata": {},
          "output_type": "execute_result"
        }
      ],
      "source": [
        "# Mostramos la \"forma\" del df es decir sus filas y columnas\n",
        "airports.shape"
      ]
    },
    {
      "cell_type": "code",
      "execution_count": 5,
      "metadata": {
        "colab": {
          "base_uri": "https://localhost:8080/"
        },
        "id": "EBEpgn3-mTu8",
        "outputId": "83bfe89b-2f95-4f7c-8602-6e6a20b677c6"
      },
      "outputs": [
        {
          "name": "stdout",
          "output_type": "stream",
          "text": [
            "<class 'pandas.core.frame.DataFrame'>\n",
            "RangeIndex: 6 entries, 0 to 5\n",
            "Data columns (total 4 columns):\n",
            " #   Column   Non-Null Count  Dtype \n",
            "---  ------   --------------  ----- \n",
            " 0   NAME     6 non-null      object\n",
            " 1   CITY     6 non-null      object\n",
            " 2   COUNTRY  6 non-null      object\n",
            " 3   PEOPLE   6 non-null      int64 \n",
            "dtypes: int64(1), object(3)\n",
            "memory usage: 324.0+ bytes\n"
          ]
        }
      ],
      "source": [
        "#Mostramos informacion mas especificas del df que estamos analizando\n",
        "airports.info()"
      ]
    },
    {
      "cell_type": "code",
      "execution_count": 6,
      "metadata": {
        "colab": {
          "base_uri": "https://localhost:8080/"
        },
        "id": "LU6AgvTxmb_F",
        "outputId": "7a6ee853-8da2-40ef-a8f2-2a05c86036c4"
      },
      "outputs": [
        {
          "data": {
            "text/plain": [
              "0      Seattle\n",
              "1     Portland\n",
              "2    Vancouver\n",
              "3      Calgary\n",
              "4     Edmonton\n",
              "5     Winnipeg\n",
              "Name: CITY, dtype: object"
            ]
          },
          "execution_count": 6,
          "metadata": {},
          "output_type": "execute_result"
        }
      ],
      "source": [
        "#Mostramos una columna en especifico del Df\n",
        "airports['CITY']"
      ]
    },
    {
      "cell_type": "code",
      "execution_count": 7,
      "metadata": {
        "colab": {
          "base_uri": "https://localhost:8080/",
          "height": 35
        },
        "id": "PV8B3E06nyzG",
        "outputId": "cb2b3ab7-c4a3-4605-9e55-561ac63ffe5d"
      },
      "outputs": [
        {
          "data": {
            "text/plain": [
              "'Vancouver'"
            ]
          },
          "execution_count": 7,
          "metadata": {},
          "output_type": "execute_result"
        }
      ],
      "source": [
        "#Devolvemos un valor en especifico con iloc\n",
        "airports.iloc[2,1]"
      ]
    },
    {
      "cell_type": "code",
      "execution_count": 8,
      "metadata": {
        "colab": {
          "base_uri": "https://localhost:8080/",
          "height": 449
        },
        "id": "a9JdZrVioEVv",
        "outputId": "3b5f9b4e-ed70-4410-83ac-1dca61c125d1"
      },
      "outputs": [
        {
          "data": {
            "image/png": "[encoded data removed]",
            "text/plain": [
              "<Figure size 640x480 with 1 Axes>"
            ]
          },
          "metadata": {},
          "output_type": "display_data"
        }
      ],
      "source": [
        "#Creamos un grafico de barras para visualizar los datos\n",
        "sns.barplot(x='NAME', y='PEOPLE', data=airports)\n",
        "\n",
        "#mostrando el grafico\n",
        "plt.show()"
      ]
    },
    {
      "cell_type": "code",
      "execution_count": 9,
      "metadata": {
        "colab": {
          "base_uri": "https://localhost:8080/"
        },
        "id": "wFEM54RYIeo_",
        "outputId": "597a8d24-bb02-4a0f-bd7b-618d95f28714"
      },
      "outputs": [
        {
          "data": {
            "text/plain": [
              "NAME       Portland\n",
              "CITY       Portland\n",
              "COUNTRY         USA\n",
              "PEOPLE         8000\n",
              "Name: 1, dtype: object"
            ]
          },
          "execution_count": 9,
          "metadata": {},
          "output_type": "execute_result"
        }
      ],
      "source": [
        "#accediendo a un valor en especifico con loc\n",
        "airports.loc[1]"
      ]
    },
    {
      "cell_type": "code",
      "execution_count": 10,
      "metadata": {
        "colab": {
          "base_uri": "https://localhost:8080/",
          "height": 175
        },
        "id": "NYr1EQdtKuzX",
        "outputId": "4c5c238a-297e-4b48-9bcf-eba2f42ead00"
      },
      "outputs": [
        {
          "data": {
            "text/html": [
              "<div>\n",
              "<style scoped>\n",
              "    .dataframe tbody tr th:only-of-type {\n",
              "        vertical-align: middle;\n",
              "    }\n",
              "\n",
              "    .dataframe tbody tr th {\n",
              "        vertical-align: top;\n",
              "    }\n",
              "\n",
              "    .dataframe thead th {\n",
              "        text-align: right;\n",
              "    }\n",
              "</style>\n",
              "<table border=\"1\" class=\"dataframe\">\n",
              "  <thead>\n",
              "    <tr style=\"text-align: right;\">\n",
              "      <th></th>\n",
              "      <th>NAME</th>\n",
              "      <th>CITY</th>\n",
              "      <th>COUNTRY</th>\n",
              "      <th>PEOPLE</th>\n",
              "    </tr>\n",
              "  </thead>\n",
              "  <tbody>\n",
              "    <tr>\n",
              "      <th>2</th>\n",
              "      <td>Vancouver</td>\n",
              "      <td>Vancouver</td>\n",
              "      <td>Canada</td>\n",
              "      <td>10000</td>\n",
              "    </tr>\n",
              "    <tr>\n",
              "      <th>3</th>\n",
              "      <td>Calgary</td>\n",
              "      <td>Calgary</td>\n",
              "      <td>Canada</td>\n",
              "      <td>15500</td>\n",
              "    </tr>\n",
              "    <tr>\n",
              "      <th>4</th>\n",
              "      <td>Edmonton</td>\n",
              "      <td>Edmonton</td>\n",
              "      <td>Canada</td>\n",
              "      <td>8000</td>\n",
              "    </tr>\n",
              "    <tr>\n",
              "      <th>5</th>\n",
              "      <td>Winnipeg</td>\n",
              "      <td>Winnipeg</td>\n",
              "      <td>Canada</td>\n",
              "      <td>12500</td>\n",
              "    </tr>\n",
              "  </tbody>\n",
              "</table>\n",
              "</div>"
            ],
            "text/plain": [
              "        NAME       CITY COUNTRY  PEOPLE\n",
              "2  Vancouver  Vancouver  Canada   10000\n",
              "3    Calgary    Calgary  Canada   15500\n",
              "4   Edmonton   Edmonton  Canada    8000\n",
              "5   Winnipeg   Winnipeg  Canada   12500"
            ]
          },
          "execution_count": 10,
          "metadata": {},
          "output_type": "execute_result"
        }
      ],
      "source": [
        "# utilizando slicing para obtener una cantidad de datos del dataframe\n",
        "airports[2:6]"
      ]
    },
    {
      "cell_type": "code",
      "execution_count": 11,
      "metadata": {
        "colab": {
          "base_uri": "https://localhost:8080/",
          "height": 238
        },
        "id": "Q805KVjPL8TG",
        "outputId": "948c7e92-5d80-414c-ded1-7d5ee62031a4"
      },
      "outputs": [
        {
          "data": {
            "text/html": [
              "<div>\n",
              "<style scoped>\n",
              "    .dataframe tbody tr th:only-of-type {\n",
              "        vertical-align: middle;\n",
              "    }\n",
              "\n",
              "    .dataframe tbody tr th {\n",
              "        vertical-align: top;\n",
              "    }\n",
              "\n",
              "    .dataframe thead th {\n",
              "        text-align: right;\n",
              "    }\n",
              "</style>\n",
              "<table border=\"1\" class=\"dataframe\">\n",
              "  <thead>\n",
              "    <tr style=\"text-align: right;\">\n",
              "      <th></th>\n",
              "      <th>NAME</th>\n",
              "      <th>CITY</th>\n",
              "      <th>COUNTRY</th>\n",
              "      <th>PEOPLE</th>\n",
              "    </tr>\n",
              "  </thead>\n",
              "  <tbody>\n",
              "    <tr>\n",
              "      <th>3</th>\n",
              "      <td>Calgary</td>\n",
              "      <td>Calgary</td>\n",
              "      <td>Canada</td>\n",
              "      <td>15500</td>\n",
              "    </tr>\n",
              "    <tr>\n",
              "      <th>0</th>\n",
              "      <td>Seattle-Tacoma</td>\n",
              "      <td>Seattle</td>\n",
              "      <td>USA</td>\n",
              "      <td>15000</td>\n",
              "    </tr>\n",
              "    <tr>\n",
              "      <th>5</th>\n",
              "      <td>Winnipeg</td>\n",
              "      <td>Winnipeg</td>\n",
              "      <td>Canada</td>\n",
              "      <td>12500</td>\n",
              "    </tr>\n",
              "    <tr>\n",
              "      <th>2</th>\n",
              "      <td>Vancouver</td>\n",
              "      <td>Vancouver</td>\n",
              "      <td>Canada</td>\n",
              "      <td>10000</td>\n",
              "    </tr>\n",
              "    <tr>\n",
              "      <th>1</th>\n",
              "      <td>Portland</td>\n",
              "      <td>Portland</td>\n",
              "      <td>USA</td>\n",
              "      <td>8000</td>\n",
              "    </tr>\n",
              "    <tr>\n",
              "      <th>4</th>\n",
              "      <td>Edmonton</td>\n",
              "      <td>Edmonton</td>\n",
              "      <td>Canada</td>\n",
              "      <td>8000</td>\n",
              "    </tr>\n",
              "  </tbody>\n",
              "</table>\n",
              "</div>"
            ],
            "text/plain": [
              "             NAME       CITY COUNTRY  PEOPLE\n",
              "3         Calgary    Calgary  Canada   15500\n",
              "0  Seattle-Tacoma    Seattle     USA   15000\n",
              "5        Winnipeg   Winnipeg  Canada   12500\n",
              "2       Vancouver  Vancouver  Canada   10000\n",
              "1        Portland   Portland     USA    8000\n",
              "4        Edmonton   Edmonton  Canada    8000"
            ]
          },
          "execution_count": 11,
          "metadata": {},
          "output_type": "execute_result"
        }
      ],
      "source": [
        "# utlizamos la propiedad sort_values para ordenarlo de forma descendente\n",
        "df_ordenado = airports.sort_values(by='PEOPLE', ascending=False)\n",
        "df_ordenado"
      ]
    },
    {
      "cell_type": "code",
      "execution_count": 12,
      "metadata": {
        "colab": {
          "base_uri": "https://localhost:8080/",
          "height": 449
        },
        "id": "LcMhfbjQMR2u",
        "outputId": "7f5f434a-8a2d-4c61-e54f-1c452b631d75"
      },
      "outputs": [
        {
          "data": {
            "image/png": "[encoded data removed]",
            "text/plain": [
              "<Figure size 640x480 with 1 Axes>"
            ]
          },
          "metadata": {},
          "output_type": "display_data"
        }
      ],
      "source": [
        "# grafico pero ahora con el dataframe ordenado\n",
        "sns.barplot(x='NAME', y='PEOPLE', data=df_ordenado)\n",
        "plt.show()"
      ]
    },
    {
      "cell_type": "code",
      "execution_count": 13,
      "metadata": {
        "colab": {
          "base_uri": "https://localhost:8080/",
          "height": 206
        },
        "id": "KxBGfMf-MjHu",
        "outputId": "fe8c100a-60cd-4e0c-be0c-febada52e765"
      },
      "outputs": [
        {
          "data": {
            "text/html": [
              "<div>\n",
              "<style scoped>\n",
              "    .dataframe tbody tr th:only-of-type {\n",
              "        vertical-align: middle;\n",
              "    }\n",
              "\n",
              "    .dataframe tbody tr th {\n",
              "        vertical-align: top;\n",
              "    }\n",
              "\n",
              "    .dataframe thead th {\n",
              "        text-align: right;\n",
              "    }\n",
              "</style>\n",
              "<table border=\"1\" class=\"dataframe\">\n",
              "  <thead>\n",
              "    <tr style=\"text-align: right;\">\n",
              "      <th></th>\n",
              "      <th>NAME</th>\n",
              "      <th>CITY</th>\n",
              "      <th>COUNTRY</th>\n",
              "      <th>PEOPLE</th>\n",
              "    </tr>\n",
              "  </thead>\n",
              "  <tbody>\n",
              "    <tr>\n",
              "      <th>0</th>\n",
              "      <td>Leipzig</td>\n",
              "      <td>Leipzig</td>\n",
              "      <td>Germany</td>\n",
              "      <td>10000</td>\n",
              "    </tr>\n",
              "    <tr>\n",
              "      <th>1</th>\n",
              "      <td>Berlin</td>\n",
              "      <td>Berlin</td>\n",
              "      <td>Germany</td>\n",
              "      <td>20000</td>\n",
              "    </tr>\n",
              "    <tr>\n",
              "      <th>2</th>\n",
              "      <td>London</td>\n",
              "      <td>London</td>\n",
              "      <td>United Kingdom</td>\n",
              "      <td>30000</td>\n",
              "    </tr>\n",
              "    <tr>\n",
              "      <th>3</th>\n",
              "      <td>Paris</td>\n",
              "      <td>Paris</td>\n",
              "      <td>France</td>\n",
              "      <td>40000</td>\n",
              "    </tr>\n",
              "    <tr>\n",
              "      <th>4</th>\n",
              "      <td>Madrid</td>\n",
              "      <td>Madrid</td>\n",
              "      <td>Spain</td>\n",
              "      <td>50000</td>\n",
              "    </tr>\n",
              "  </tbody>\n",
              "</table>\n",
              "</div>"
            ],
            "text/plain": [
              "      NAME     CITY         COUNTRY  PEOPLE\n",
              "0  Leipzig  Leipzig         Germany   10000\n",
              "1   Berlin   Berlin         Germany   20000\n",
              "2   London   London  United Kingdom   30000\n",
              "3    Paris    Paris          France   40000\n",
              "4   Madrid   Madrid           Spain   50000"
            ]
          },
          "execution_count": 13,
          "metadata": {},
          "output_type": "execute_result"
        }
      ],
      "source": [
        "# Creamos un nuevo Dataframe\n",
        "airports_2 = pd.DataFrame([\n",
        "    ['Leipzig', 'Leipzig', 'Germany', 10000],\n",
        "    ['Berlin', 'Berlin', 'Germany', 20000],\n",
        "    ['London', 'London', 'United Kingdom', 30000],\n",
        "    ['Paris', 'Paris', 'France', 40000],\n",
        "    ['Madrid', 'Madrid', 'Spain', 50000],\n",
        "], columns=['NAME', 'CITY', 'COUNTRY', 'PEOPLE'])\n",
        "airports_2"
      ]
    },
    {
      "cell_type": "code",
      "execution_count": 14,
      "metadata": {
        "colab": {
          "base_uri": "https://localhost:8080/",
          "height": 394
        },
        "id": "bYDLCVUaN-AE",
        "outputId": "360ab72f-889b-4cf6-c4e9-5f2add29a4a4"
      },
      "outputs": [
        {
          "data": {
            "text/html": [
              "<div>\n",
              "<style scoped>\n",
              "    .dataframe tbody tr th:only-of-type {\n",
              "        vertical-align: middle;\n",
              "    }\n",
              "\n",
              "    .dataframe tbody tr th {\n",
              "        vertical-align: top;\n",
              "    }\n",
              "\n",
              "    .dataframe thead th {\n",
              "        text-align: right;\n",
              "    }\n",
              "</style>\n",
              "<table border=\"1\" class=\"dataframe\">\n",
              "  <thead>\n",
              "    <tr style=\"text-align: right;\">\n",
              "      <th></th>\n",
              "      <th>NAME</th>\n",
              "      <th>CITY</th>\n",
              "      <th>COUNTRY</th>\n",
              "      <th>PEOPLE</th>\n",
              "    </tr>\n",
              "  </thead>\n",
              "  <tbody>\n",
              "    <tr>\n",
              "      <th>0</th>\n",
              "      <td>Seattle-Tacoma</td>\n",
              "      <td>Seattle</td>\n",
              "      <td>USA</td>\n",
              "      <td>15000</td>\n",
              "    </tr>\n",
              "    <tr>\n",
              "      <th>1</th>\n",
              "      <td>Portland</td>\n",
              "      <td>Portland</td>\n",
              "      <td>USA</td>\n",
              "      <td>8000</td>\n",
              "    </tr>\n",
              "    <tr>\n",
              "      <th>2</th>\n",
              "      <td>Vancouver</td>\n",
              "      <td>Vancouver</td>\n",
              "      <td>Canada</td>\n",
              "      <td>10000</td>\n",
              "    </tr>\n",
              "    <tr>\n",
              "      <th>3</th>\n",
              "      <td>Calgary</td>\n",
              "      <td>Calgary</td>\n",
              "      <td>Canada</td>\n",
              "      <td>15500</td>\n",
              "    </tr>\n",
              "    <tr>\n",
              "      <th>4</th>\n",
              "      <td>Edmonton</td>\n",
              "      <td>Edmonton</td>\n",
              "      <td>Canada</td>\n",
              "      <td>8000</td>\n",
              "    </tr>\n",
              "    <tr>\n",
              "      <th>5</th>\n",
              "      <td>Winnipeg</td>\n",
              "      <td>Winnipeg</td>\n",
              "      <td>Canada</td>\n",
              "      <td>12500</td>\n",
              "    </tr>\n",
              "    <tr>\n",
              "      <th>0</th>\n",
              "      <td>Leipzig</td>\n",
              "      <td>Leipzig</td>\n",
              "      <td>Germany</td>\n",
              "      <td>10000</td>\n",
              "    </tr>\n",
              "    <tr>\n",
              "      <th>1</th>\n",
              "      <td>Berlin</td>\n",
              "      <td>Berlin</td>\n",
              "      <td>Germany</td>\n",
              "      <td>20000</td>\n",
              "    </tr>\n",
              "    <tr>\n",
              "      <th>2</th>\n",
              "      <td>London</td>\n",
              "      <td>London</td>\n",
              "      <td>United Kingdom</td>\n",
              "      <td>30000</td>\n",
              "    </tr>\n",
              "    <tr>\n",
              "      <th>3</th>\n",
              "      <td>Paris</td>\n",
              "      <td>Paris</td>\n",
              "      <td>France</td>\n",
              "      <td>40000</td>\n",
              "    </tr>\n",
              "    <tr>\n",
              "      <th>4</th>\n",
              "      <td>Madrid</td>\n",
              "      <td>Madrid</td>\n",
              "      <td>Spain</td>\n",
              "      <td>50000</td>\n",
              "    </tr>\n",
              "  </tbody>\n",
              "</table>\n",
              "</div>"
            ],
            "text/plain": [
              "             NAME       CITY         COUNTRY  PEOPLE\n",
              "0  Seattle-Tacoma    Seattle             USA   15000\n",
              "1        Portland   Portland             USA    8000\n",
              "2       Vancouver  Vancouver          Canada   10000\n",
              "3         Calgary    Calgary          Canada   15500\n",
              "4        Edmonton   Edmonton          Canada    8000\n",
              "5        Winnipeg   Winnipeg          Canada   12500\n",
              "0         Leipzig    Leipzig         Germany   10000\n",
              "1          Berlin     Berlin         Germany   20000\n",
              "2          London     London  United Kingdom   30000\n",
              "3           Paris      Paris          France   40000\n",
              "4          Madrid     Madrid           Spain   50000"
            ]
          },
          "execution_count": 14,
          "metadata": {},
          "output_type": "execute_result"
        }
      ],
      "source": [
        "#Concatenando los 2 dataframes\n",
        "airports_concat = pd.concat([airports, airports_2])\n",
        "airports_concat"
      ]
    },
    {
      "cell_type": "code",
      "execution_count": 15,
      "metadata": {
        "colab": {
          "base_uri": "https://localhost:8080/",
          "height": 300
        },
        "id": "sEPhNHD_OK1L",
        "outputId": "b37595a6-44a5-49f4-cd8b-431ff6f81b6f"
      },
      "outputs": [
        {
          "data": {
            "text/html": [
              "<div>\n",
              "<style scoped>\n",
              "    .dataframe tbody tr th:only-of-type {\n",
              "        vertical-align: middle;\n",
              "    }\n",
              "\n",
              "    .dataframe tbody tr th {\n",
              "        vertical-align: top;\n",
              "    }\n",
              "\n",
              "    .dataframe thead th {\n",
              "        text-align: right;\n",
              "    }\n",
              "</style>\n",
              "<table border=\"1\" class=\"dataframe\">\n",
              "  <thead>\n",
              "    <tr style=\"text-align: right;\">\n",
              "      <th></th>\n",
              "      <th>PEOPLE</th>\n",
              "    </tr>\n",
              "  </thead>\n",
              "  <tbody>\n",
              "    <tr>\n",
              "      <th>count</th>\n",
              "      <td>11.000000</td>\n",
              "    </tr>\n",
              "    <tr>\n",
              "      <th>mean</th>\n",
              "      <td>19909.090909</td>\n",
              "    </tr>\n",
              "    <tr>\n",
              "      <th>std</th>\n",
              "      <td>14104.641402</td>\n",
              "    </tr>\n",
              "    <tr>\n",
              "      <th>min</th>\n",
              "      <td>8000.000000</td>\n",
              "    </tr>\n",
              "    <tr>\n",
              "      <th>25%</th>\n",
              "      <td>10000.000000</td>\n",
              "    </tr>\n",
              "    <tr>\n",
              "      <th>50%</th>\n",
              "      <td>15000.000000</td>\n",
              "    </tr>\n",
              "    <tr>\n",
              "      <th>75%</th>\n",
              "      <td>25000.000000</td>\n",
              "    </tr>\n",
              "    <tr>\n",
              "      <th>max</th>\n",
              "      <td>50000.000000</td>\n",
              "    </tr>\n",
              "  </tbody>\n",
              "</table>\n",
              "</div>"
            ],
            "text/plain": [
              "             PEOPLE\n",
              "count     11.000000\n",
              "mean   19909.090909\n",
              "std    14104.641402\n",
              "min     8000.000000\n",
              "25%    10000.000000\n",
              "50%    15000.000000\n",
              "75%    25000.000000\n",
              "max    50000.000000"
            ]
          },
          "execution_count": 15,
          "metadata": {},
          "output_type": "execute_result"
        }
      ],
      "source": [
        "#Obteniendo datos estadisticos del dataframe concatenado\n",
        "airports_concat.describe()"
      ]
    },
    {
      "cell_type": "code",
      "execution_count": 16,
      "metadata": {
        "colab": {
          "base_uri": "https://localhost:8080/",
          "height": 520
        },
        "id": "nkQ042XoPBIs",
        "outputId": "0916afde-4ce8-4723-a132-71ede6d14426"
      },
      "outputs": [
        {
          "data": {
            "image/png": "[encoded data removed]",
            "text/plain": [
              "<Figure size 640x480 with 1 Axes>"
            ]
          },
          "metadata": {},
          "output_type": "display_data"
        }
      ],
      "source": [
        "# grafico del df concatenado completo pero de forma descendente\n",
        "sns.barplot(x='NAME', y='PEOPLE', data=airports_concat.sort_values(by='PEOPLE', ascending=False))\n",
        "plt.xticks(rotation=45)\n",
        "plt.show()"
      ]
    },
    {
      "cell_type": "markdown",
      "metadata": {},
      "source": [
        "### Creación de un Mapa para visualizar los lugares geograficos de los aeropuertos\n",
        "Utilizaremos Geopandas para crear un DataFrame con las coordenadas de los aeropuertos"
      ]
    },
    {
      "cell_type": "code",
      "execution_count": 18,
      "metadata": {},
      "outputs": [
        {
          "ename": "ModuleNotFoundError",
          "evalue": "No module named 'geodatasets'",
          "output_type": "error",
          "traceback": [
            "\u001b[1;31m---------------------------------------------------------------------------\u001b[0m",
            "\u001b[1;31mModuleNotFoundError\u001b[0m                       Traceback (most recent call last)",
            "Cell \u001b[1;32mIn[18], line 2\u001b[0m\n\u001b[0;32m      1\u001b[0m \u001b[38;5;28;01mimport\u001b[39;00m \u001b[38;5;21;01mgeopandas\u001b[39;00m\n\u001b[1;32m----> 2\u001b[0m \u001b[38;5;28;01mfrom\u001b[39;00m \u001b[38;5;21;01mgeodatasets\u001b[39;00m \u001b[38;5;28;01mimport\u001b[39;00m get_path\n",
            "\u001b[1;31mModuleNotFoundError\u001b[0m: No module named 'geodatasets'"
          ]
        }
      ],
      "source": [
        "import geopandas\n",
        "from geodatasets import get_path"
      ]
    },
    {
      "cell_type": "code",
      "execution_count": 10,
      "metadata": {},
      "outputs": [],
      "source": [
        "# Creamos un dataframe con todas las cordenadas de las ciudades\n",
        "df = pd.DataFrame(\n",
        "    {\n",
        "        \"City\": ['Seattle', 'Portland', 'Vancouver', 'Calgary', 'Edmonton', 'Winnipeg'],\n",
        "        \"Country\": ['USA', 'USA', 'Canada', 'Canada', 'Canada', 'Canada'],\n",
        "        \"Latitude\": [47.4490, 45.5889, 49.1947, 51.1111, 53.1003, 49.8972],\n",
        "        \"Longitude\":[122.3090, 122.5970, 123.1900, 114.0160, 113.3050, 97.1511],\n",
        "    }\n",
        ")"
      ]
    },
    {
      "cell_type": "code",
      "execution_count": 15,
      "metadata": {},
      "outputs": [
        {
          "data": {
            "text/html": [
              "<div>\n",
              "<style scoped>\n",
              "    .dataframe tbody tr th:only-of-type {\n",
              "        vertical-align: middle;\n",
              "    }\n",
              "\n",
              "    .dataframe tbody tr th {\n",
              "        vertical-align: top;\n",
              "    }\n",
              "\n",
              "    .dataframe thead th {\n",
              "        text-align: right;\n",
              "    }\n",
              "</style>\n",
              "<table border=\"1\" class=\"dataframe\">\n",
              "  <thead>\n",
              "    <tr style=\"text-align: right;\">\n",
              "      <th></th>\n",
              "      <th>City</th>\n",
              "      <th>Country</th>\n",
              "      <th>Latitude</th>\n",
              "      <th>Longitude</th>\n",
              "      <th>geometry</th>\n",
              "    </tr>\n",
              "  </thead>\n",
              "  <tbody>\n",
              "    <tr>\n",
              "      <th>0</th>\n",
              "      <td>Seattle</td>\n",
              "      <td>USA</td>\n",
              "      <td>47.4490</td>\n",
              "      <td>122.309</td>\n",
              "      <td>POINT (47.449 122.309)</td>\n",
              "    </tr>\n",
              "    <tr>\n",
              "      <th>1</th>\n",
              "      <td>Portland</td>\n",
              "      <td>USA</td>\n",
              "      <td>45.5889</td>\n",
              "      <td>122.597</td>\n",
              "      <td>POINT (45.5889 122.597)</td>\n",
              "    </tr>\n",
              "    <tr>\n",
              "      <th>2</th>\n",
              "      <td>Vancouver</td>\n",
              "      <td>Canada</td>\n",
              "      <td>49.1947</td>\n",
              "      <td>123.190</td>\n",
              "      <td>POINT (49.1947 123.19)</td>\n",
              "    </tr>\n",
              "    <tr>\n",
              "      <th>3</th>\n",
              "      <td>Calgary</td>\n",
              "      <td>Canada</td>\n",
              "      <td>51.1111</td>\n",
              "      <td>114.016</td>\n",
              "      <td>POINT (51.1111 114.016)</td>\n",
              "    </tr>\n",
              "    <tr>\n",
              "      <th>4</th>\n",
              "      <td>Edmonton</td>\n",
              "      <td>Canada</td>\n",
              "      <td>53.1003</td>\n",
              "      <td>113.305</td>\n",
              "      <td>POINT (53.1003 113.305)</td>\n",
              "    </tr>\n",
              "  </tbody>\n",
              "</table>\n",
              "</div>"
            ],
            "text/plain": [
              "        City Country  Latitude  Longitude                 geometry\n",
              "0    Seattle     USA   47.4490    122.309   POINT (47.449 122.309)\n",
              "1   Portland     USA   45.5889    122.597  POINT (45.5889 122.597)\n",
              "2  Vancouver  Canada   49.1947    123.190   POINT (49.1947 123.19)\n",
              "3    Calgary  Canada   51.1111    114.016  POINT (51.1111 114.016)\n",
              "4   Edmonton  Canada   53.1003    113.305  POINT (53.1003 113.305)"
            ]
          },
          "execution_count": 15,
          "metadata": {},
          "output_type": "execute_result"
        }
      ],
      "source": [
        "gdf = geopandas.GeoDataFrame(\n",
        "    df, geometry=geopandas.points_from_xy(df.Latitude, df.Longitude), crs=\"EPSG:4326\"\n",
        ")\n",
        "\n",
        "gdf.head()"
      ]
    },
    {
      "cell_type": "code",
      "execution_count": null,
      "metadata": {},
      "outputs": [],
      "source": [
        "# Finalmente volcamos los datos en un mapa \n",
        "\n",
        "world = geopandas.read_file(get_path(\"naturalearth.land\"))\n",
        "\n",
        "# We restrict to South America.\n",
        "ax = world.clip([-90, -55, -25, 15]).plot(color=\"white\", edgecolor=\"black\")\n",
        "\n",
        "# We can now plot our ``GeoDataFrame``.\n",
        "gdf.plot(ax=ax, color=\"red\")\n",
        "\n",
        "plt.show()"
      ]
    },
    {
      "cell_type": "markdown",
      "metadata": {},
      "source": [
        "## Exportamos todo a un Excel \n",
        "Utlizacion de la funcion de Pandas llamada \"to_excel\""
      ]
    },
    {
      "cell_type": "code",
      "execution_count": 17,
      "metadata": {},
      "outputs": [],
      "source": [
        "airports_concat.to_excel('Airports.xlsx', sheet_name=\"Datos Aeropuertos\") \n",
        "#lo que hacemos es pasarle un archvio excel en este caso no existe, pero lo creamos"
      ]
    }
  ],
  "metadata": {
    "colab": {
      "authorship_tag": "ABX9TyNzuD3vmuIGQNOxKjgHrnrR",
      "include_colab_link": true,
      "provenance": [],
      "toc_visible": true
    },
    "kernelspec": {
      "display_name": "Python 3",
      "name": "python3"
    },
    "language_info": {
      "codemirror_mode": {
        "name": "ipython",
        "version": 3
      },
      "file_extension": ".py",
      "mimetype": "text/x-python",
      "name": "python",
      "nbconvert_exporter": "python",
      "pygments_lexer": "ipython3",
      "version": "3.11.5"
    }
  },
  "nbformat": 4,
  "nbformat_minor": 0
}
